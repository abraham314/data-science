{
 "cells": [
  {
   "cell_type": "markdown",
   "metadata": {},
   "source": [
    "<img src=\"../files/misc/logo.png\" width=300/>\n",
    "<h1 style=\"color:#872325\"> Webscrapping </h1>"
   ]
  },
  {
   "cell_type": "markdown",
   "metadata": {},
   "source": [
    "De acuerdo a [Wikipedia](https://es.wikipedia.org/wiki/Web_scraping), *Web Scrapping*, \n",
    "\n",
    "> es una técnica utilizada mediante programas de software para extraer información de sitios web. Usualmente, estos programas simulan la navegación de un humano en la World Wide Web ya sea utilizando el protocolo HTTP manualmente, o incrustando un navegador en una aplicación.\n",
    "\n",
    "Para fines prácticos, realizamos un web scrapping cuándo no contamos con alguna manera de acceder a información estructurada de datos por analizar (.csv, .json, base de datos, API). "
   ]
  },
  {
   "cell_type": "markdown",
   "metadata": {},
   "source": [
    "---\n",
    "\n",
    "## HTML\n",
    "Al hacer webscrapping, dependemos de la estructura de la página web para poder acceder a la información que deseamos obtener. La estructura de la página web se define mediante un lenguaje llamado `HTML` (Hypertext Markup Language) el cual se compone por medio de *tags*.\n",
    "\n",
    "```HTML\n",
    "<tag>\n",
    "</tag>\n",
    "```\n",
    "\n",
    "Un *tag* define una sección de la página. Cada *tag* tiene una propiedad. Un conjunto de estos tags definen el cuerpo de la página.\n",
    "\n",
    "\n",
    "### Una primera página web\n",
    "```HTML\n",
    "<!DOCTYPE html>\n",
    "<html>\n",
    "<body>\n",
    "\n",
    "<h1>Data Science and Machine Learning</h1>\n",
    "\n",
    "</body>\n",
    "</html>\n",
    "```\n",
    "\n",
    "Para nuestros fines, un *tag* representará una sección dentro de la página la cuál nos gustaría explorar o extraer."
   ]
  },
  {
   "cell_type": "markdown",
   "metadata": {},
   "source": [
    "---\n",
    "\n",
    "## CSS\n",
    "\n",
    "Un *Cascading Style Sheet* (CSS), es un archivo que viene acompañado de un html y define el estilo de la página.\n",
    "\n",
    "```CSS\n",
    "selector {\n",
    "    property: property-value;\n",
    "}\n",
    "```\n",
    "\n",
    "Cada *selector* contiene diferentes [propiedades](http://web.simmons.edu/~grabiner/comm244/weekthree/css-basic-properties.html) de acuerdo al *tag*, clase o *id* que le corresponda.\n",
    "\n",
    "Para fines de webscrapping, un los *tags*, *ids* y *clases* ofrencen estrucura dentro de una página.\n",
    "\n",
    "* Tags: estructura general\n",
    "* Clase: secciones genéricas dentro de una página\n",
    "* *id*: Secciones especifícas"
   ]
  },
  {
   "cell_type": "markdown",
   "metadata": {},
   "source": [
    "---\n",
    "\n",
    "## Javascript y el DOM\n",
    "\n",
    "La mayoría de las páginas que visitamos hoy en día son interactivas. La interactividad de un una página web es proporcionada por un lenguaje de programación llamado `javascript`.\n",
    "\n",
    "La manera en la que Javascript asigna u obtiene elementos de una página se conoce como el *Document Object Notation* (DOM).\n",
    "\n",
    "Para fines de webscrapping, esto es importante puesto que en ocasiones, una página es vacía hasta que un programa de Javascript se ejecuta para arrojar información."
   ]
  },
  {
   "cell_type": "markdown",
   "metadata": {},
   "source": [
    "## Un primer webscrap\n",
    "\n",
    "En este módulo estaremos ocupando la librería [requests_html](https://github.com/psf/requests-html) para hacer webscrapping."
   ]
  },
  {
   "cell_type": "code",
   "execution_count": 8,
   "metadata": {},
   "outputs": [],
   "source": [
    "from requests_html import HTML    "
   ]
  },
  {
   "cell_type": "code",
   "execution_count": 29,
   "metadata": {
    "scrolled": true
   },
   "outputs": [
    {
     "name": "stdout",
     "output_type": "stream",
     "text": [
      "<!DOCTYPE html>\n",
      "<html>\n",
      "<head>\n",
      "    <link href=\"style2.css\" rel=\"stylesheet\"/>\n",
      "</head>\n",
      "\n",
      "<body>\n",
      "\n",
      "    <h1>Data Science and Machine Learning</h1>\n",
      "\n",
      "    <div class=\"my_class\">\n",
      "        <p> By <a href=\"https://bit.ly/34EdyH2\">Analysic Nabla</a></p>\n",
      "        <p> At the <a href=\"https://bit.ly/2qDvao4\">ITAM</a></p>\n",
      "    </div>\n",
      "\n",
      "</body>\n",
      "</html>\n",
      "\n"
     ]
    }
   ],
   "source": [
    "with open(\"../files/lec04/ex03.html\") as f:\n",
    "    webp = f.read()\n",
    "\n",
    "html = HTML(html=webp)\n",
    "print(html.html)"
   ]
  },
  {
   "cell_type": "code",
   "execution_count": 30,
   "metadata": {},
   "outputs": [
    {
     "data": {
      "text/plain": [
       "{'https://bit.ly/2qDvao4', 'https://bit.ly/34EdyH2'}"
      ]
     },
     "execution_count": 30,
     "metadata": {},
     "output_type": "execute_result"
    }
   ],
   "source": [
    "# Extrayendo todos los links de la página\n",
    "html.links"
   ]
  },
  {
   "cell_type": "code",
   "execution_count": 35,
   "metadata": {},
   "outputs": [
    {
     "data": {
      "text/plain": [
       "'Data Science and Machine Learning'"
      ]
     },
     "execution_count": 35,
     "metadata": {},
     "output_type": "execute_result"
    }
   ],
   "source": [
    "# Extrayendo el primer encabezado de la página\n",
    "html.find(\"H1\", first=True).text"
   ]
  },
  {
   "cell_type": "code",
   "execution_count": 41,
   "metadata": {},
   "outputs": [
    {
     "data": {
      "text/plain": [
       "[<Element 'p' >, <Element 'p' >]"
      ]
     },
     "execution_count": 41,
     "metadata": {},
     "output_type": "execute_result"
    }
   ],
   "source": [
    "# Buscando todos los elementos <p> (paragrapshs)\n",
    "html.find(\"p\")"
   ]
  },
  {
   "cell_type": "code",
   "execution_count": 50,
   "metadata": {},
   "outputs": [
    {
     "data": {
      "text/plain": [
       "<Element 'div' class=('my_class',)>"
      ]
     },
     "execution_count": 50,
     "metadata": {},
     "output_type": "execute_result"
    }
   ],
   "source": [
    "# Extrayendo una sección dentro de un div\n",
    "html.find(\"div\", first=True)"
   ]
  },
  {
   "cell_type": "markdown",
   "metadata": {},
   "source": [
    "### Un segundo ejemplo"
   ]
  },
  {
   "cell_type": "code",
   "execution_count": 42,
   "metadata": {},
   "outputs": [
    {
     "name": "stdout",
     "output_type": "stream",
     "text": [
      "<!DOCTYPE html>\n",
      "<html>\n",
      "<head>\n",
      "    <link href=\"style2.css\" rel=\"stylesheet\"/>\n",
      "    <script>\n",
      "        function sendGreeting() {\n",
      "            document.getElementById(\"greeting\").innerHTML = \"Aprendamos a hacer webscrapping!\"\n",
      "        }\n",
      "        \n",
      "\n",
      "    </script>\n",
      "</head>\n",
      "\n",
      "<body onload=\"sendGreeting()\">\n",
      "    <h1>Data Science and Machine Learning</h1>\n",
      "\n",
      "    <div class=\"my_class\">\n",
      "        <p>Por Analysic Nabla</p>\n",
      "        <p>En el ITAM</p>\n",
      "        <p id=\"greeting\"></p>\n",
      "    </div>\n",
      "\n",
      "</body>\n",
      "</html>\n",
      "\n"
     ]
    }
   ],
   "source": [
    "with open(\"../files/lec04/ex04.html\") as f:\n",
    "    webp = f.read()\n",
    "\n",
    "html = HTML(html=webp)\n",
    "print(html.html)"
   ]
  },
  {
   "cell_type": "code",
   "execution_count": 52,
   "metadata": {},
   "outputs": [
    {
     "name": "stdout",
     "output_type": "stream",
     "text": [
      "Por Analysic Nabla\n",
      "En el ITAM\n",
      "\n"
     ]
    }
   ],
   "source": [
    "# ¿Qué notamos en este ejemplo que no concuerde\n",
    "# con lo que esperaríamos ver en la página?\n",
    "for item in html.find(\"p\"):\n",
    "    print(item.text)"
   ]
  },
  {
   "cell_type": "code",
   "execution_count": 55,
   "metadata": {},
   "outputs": [
    {
     "data": {
      "text/plain": [
       "<Element 'p' id='greeting'>"
      ]
     },
     "execution_count": 55,
     "metadata": {},
     "output_type": "execute_result"
    }
   ],
   "source": [
    "html.find(\"p[id='greeting']\", first=True)"
   ]
  },
  {
   "cell_type": "markdown",
   "metadata": {},
   "source": [
    "<h1 style=\"color:#872325\">HTTP Requests</h1>\n",
    "\n",
    "Las páginas que visitamos día a día viven en un servidor y no en nuestra computadora. Al abrir nuestro navegador y entrar a una página, el navegador solicita la información de la página al servidor por medio de un proceso de intercambio de información conocido como HTTP.\n",
    "\n",
    "> *Hypertext Transfer Protocol* (HTTP) es un proceso mediante el cual se hace un intercambio de información entre un cliente (un navegador) y un servidor por medio de mensajes.\n",
    "\n",
    "![server](https://mdn.mozillademos.org/files/13677/Fetching_a_page.png)\n",
    "**Fuente**x: https://developer.mozilla.org"
   ]
  },
  {
   "cell_type": "markdown",
   "metadata": {},
   "source": [
    "Dependiendo del tipo de mensaje que le mandemos a un servidor, este procesará la información enviada desde el cliente (nosotros) de diferentes maneras. Para fines de webscrapping, los métodos más comúnes de comunicarte con un servidor son:\n",
    "\n",
    "* `GET`: Solicitia un archivo determinado al servidor. Un *GET Request* se debe usar exclusivamente para adquirir información.\n",
    "    * Obtener información de una página web\n",
    "    * Cargar una imágen\n",
    "\n",
    "* `POST`: Envía datos al servidor para ser procesados\n",
    "    * Dejar tu número celular en una página\n",
    "    * Loggearte\n",
    "    * Dejar un comentario en un blog post"
   ]
  },
  {
   "cell_type": "markdown",
   "metadata": {},
   "source": [
    "En Python, podemos hacer conexiones a una página por medio de la librería `requests`"
   ]
  },
  {
   "cell_type": "code",
   "execution_count": 57,
   "metadata": {},
   "outputs": [],
   "source": [
    "import requests"
   ]
  },
  {
   "cell_type": "code",
   "execution_count": 63,
   "metadata": {},
   "outputs": [
    {
     "data": {
      "text/plain": [
       "<Response [200]>"
      ]
     },
     "execution_count": 63,
     "metadata": {},
     "output_type": "execute_result"
    }
   ],
   "source": [
    "r = requests.get(\"https://nabla.mx\")\n",
    "r"
   ]
  },
  {
   "cell_type": "markdown",
   "metadata": {},
   "source": [
    "Posteriormente tendríamos que pasarlo a una instancia de la clase `HTML` para poder analizar la página. Para evitar esto, podemos hacer uso de la clase `HTMLSession` que nos permite hacer llamadas al servidor y acceso al html que nos regrese."
   ]
  },
  {
   "cell_type": "code",
   "execution_count": 59,
   "metadata": {},
   "outputs": [],
   "source": [
    "from requests_html import HTMLSession"
   ]
  },
  {
   "cell_type": "code",
   "execution_count": 66,
   "metadata": {},
   "outputs": [
    {
     "data": {
      "text/plain": [
       "<Response [200]>"
      ]
     },
     "execution_count": 66,
     "metadata": {},
     "output_type": "execute_result"
    }
   ],
   "source": [
    "with HTMLSession() as sess:\n",
    "    r = sess.get(\"https://nabla.mx\")\n",
    "r"
   ]
  },
  {
   "cell_type": "code",
   "execution_count": 72,
   "metadata": {},
   "outputs": [
    {
     "data": {
      "text/plain": [
       "{'https://analysic-nabla.github.io/',\n",
       " 'https://melectrico.nabla.mx/',\n",
       " 'https://twitter.com/AnalysicNabla',\n",
       " 'https://www.facebook.com/Analysic-Nabla-326424374613601/',\n",
       " 'https://www.instagram.com/analysicnabla/?hl=es-la',\n",
       " 'https://www.linkedin.com/company/analysic-nabla/',\n",
       " 'https://www.nabla.mx',\n",
       " 'https://www.nabla.mx/acerca-de',\n",
       " 'https://www.nabla.mx/contacto',\n",
       " 'https://www.nabla.mx/novedades',\n",
       " 'https://www.nabla.mx/proyectos',\n",
       " 'https://www.nabla.mx/servicios'}"
      ]
     },
     "execution_count": 72,
     "metadata": {},
     "output_type": "execute_result"
    }
   ],
   "source": [
    "r.html.links"
   ]
  },
  {
   "cell_type": "markdown",
   "metadata": {},
   "source": [
    "<h1 style=\"color:#872325\">Webscrapping</h1>"
   ]
  },
  {
   "cell_type": "markdown",
   "metadata": {},
   "source": [
    "<h2 style=\"color:teal\">Ejemplo: Arxiv ML Papers (I)</h2>\n",
    "\n",
    "Consigue el nombre y el link de los último 25 papers en Machine Learning publicados en Arxiv y guárdalos dentro de un archivo `csv`."
   ]
  },
  {
   "cell_type": "code",
   "execution_count": 87,
   "metadata": {},
   "outputs": [],
   "source": [
    "from requests_html import HTMLSession\n",
    "import pandas as pd"
   ]
  },
  {
   "cell_type": "code",
   "execution_count": 77,
   "metadata": {},
   "outputs": [
    {
     "data": {
      "text/plain": [
       "<Response [200]>"
      ]
     },
     "execution_count": 77,
     "metadata": {},
     "output_type": "execute_result"
    }
   ],
   "source": [
    "url = \"https://arxiv.org/list/stat.ML/recent\"\n",
    "with HTMLSession() as sess:\n",
    "    r = sess.get(url)\n",
    "r"
   ]
  },
  {
   "cell_type": "code",
   "execution_count": null,
   "metadata": {},
   "outputs": [],
   "source": [
    "divpage = r.html.find(\"div[id='dlpage']\", first=True)"
   ]
  },
  {
   "cell_type": "code",
   "execution_count": 83,
   "metadata": {},
   "outputs": [
    {
     "data": {
      "text/plain": [
       "'Machine Learning'"
      ]
     },
     "execution_count": 83,
     "metadata": {},
     "output_type": "execute_result"
    }
   ],
   "source": [
    "divpage.find(\"h1\", first=True).text"
   ]
  },
  {
   "cell_type": "code",
   "execution_count": 85,
   "metadata": {},
   "outputs": [
    {
     "data": {
      "text/plain": [
       "25"
      ]
     },
     "execution_count": 85,
     "metadata": {},
     "output_type": "execute_result"
    }
   ],
   "source": [
    "papers_links = divpage.find(\"dt\")\n",
    "len(papers_links)"
   ]
  },
  {
   "cell_type": "code",
   "execution_count": 86,
   "metadata": {},
   "outputs": [
    {
     "data": {
      "text/plain": [
       "25"
      ]
     },
     "execution_count": 86,
     "metadata": {},
     "output_type": "execute_result"
    }
   ],
   "source": [
    "papers_titles = divpage.find(\"dd\")\n",
    "len(papers_titles)"
   ]
  },
  {
   "cell_type": "code",
   "execution_count": 119,
   "metadata": {},
   "outputs": [],
   "source": [
    "values = []\n",
    "for link_secc, title_secc in zip(papers_links, papers_titles):\n",
    "    title = title_secc.find(\"div[class='list-title mathjax']\", first=True).text\n",
    "    \n",
    "    abstract_url = link_secc.find(\"a[title='Abstract']\", first=True).absolute_links\n",
    "    abstract_url, *_ = abstract_url\n",
    "    \n",
    "    values.append([title, abstract_url])"
   ]
  },
  {
   "cell_type": "code",
   "execution_count": 122,
   "metadata": {},
   "outputs": [
    {
     "data": {
      "text/html": [
       "<div>\n",
       "<style scoped>\n",
       "    .dataframe tbody tr th:only-of-type {\n",
       "        vertical-align: middle;\n",
       "    }\n",
       "\n",
       "    .dataframe tbody tr th {\n",
       "        vertical-align: top;\n",
       "    }\n",
       "\n",
       "    .dataframe thead th {\n",
       "        text-align: right;\n",
       "    }\n",
       "</style>\n",
       "<table border=\"1\" class=\"dataframe\">\n",
       "  <thead>\n",
       "    <tr style=\"text-align: right;\">\n",
       "      <th></th>\n",
       "      <th>title</th>\n",
       "      <th>url</th>\n",
       "    </tr>\n",
       "  </thead>\n",
       "  <tbody>\n",
       "    <tr>\n",
       "      <th>0</th>\n",
       "      <td>Title: Integrating Markov processes with struc...</td>\n",
       "      <td>https://arxiv.org/abs/1911.02175</td>\n",
       "    </tr>\n",
       "    <tr>\n",
       "      <th>1</th>\n",
       "      <td>Title: Information-Theoretic Generalization Bo...</td>\n",
       "      <td>https://arxiv.org/abs/1911.02151</td>\n",
       "    </tr>\n",
       "    <tr>\n",
       "      <th>2</th>\n",
       "      <td>Title: Designing over uncertain outcomes with ...</td>\n",
       "      <td>https://arxiv.org/abs/1911.02106</td>\n",
       "    </tr>\n",
       "    <tr>\n",
       "      <th>3</th>\n",
       "      <td>Title: An Alternative Probabilistic Interpreta...</td>\n",
       "      <td>https://arxiv.org/abs/1911.02088</td>\n",
       "    </tr>\n",
       "    <tr>\n",
       "      <th>4</th>\n",
       "      <td>Title: MLPerf Inference Benchmark</td>\n",
       "      <td>https://arxiv.org/abs/1911.02549</td>\n",
       "    </tr>\n",
       "  </tbody>\n",
       "</table>\n",
       "</div>"
      ],
      "text/plain": [
       "                                               title  \\\n",
       "0  Title: Integrating Markov processes with struc...   \n",
       "1  Title: Information-Theoretic Generalization Bo...   \n",
       "2  Title: Designing over uncertain outcomes with ...   \n",
       "3  Title: An Alternative Probabilistic Interpreta...   \n",
       "4                  Title: MLPerf Inference Benchmark   \n",
       "\n",
       "                                url  \n",
       "0  https://arxiv.org/abs/1911.02175  \n",
       "1  https://arxiv.org/abs/1911.02151  \n",
       "2  https://arxiv.org/abs/1911.02106  \n",
       "3  https://arxiv.org/abs/1911.02088  \n",
       "4  https://arxiv.org/abs/1911.02549  "
      ]
     },
     "execution_count": 122,
     "metadata": {},
     "output_type": "execute_result"
    }
   ],
   "source": [
    "df_values = pd.DataFrame(values, columns=[\"title\", \"url\"])\n",
    "df_values.head()"
   ]
  },
  {
   "cell_type": "code",
   "execution_count": 126,
   "metadata": {},
   "outputs": [
    {
     "data": {
      "text/html": [
       "<div>\n",
       "<style scoped>\n",
       "    .dataframe tbody tr th:only-of-type {\n",
       "        vertical-align: middle;\n",
       "    }\n",
       "\n",
       "    .dataframe tbody tr th {\n",
       "        vertical-align: top;\n",
       "    }\n",
       "\n",
       "    .dataframe thead th {\n",
       "        text-align: right;\n",
       "    }\n",
       "</style>\n",
       "<table border=\"1\" class=\"dataframe\">\n",
       "  <thead>\n",
       "    <tr style=\"text-align: right;\">\n",
       "      <th></th>\n",
       "      <th>title</th>\n",
       "      <th>url</th>\n",
       "    </tr>\n",
       "  </thead>\n",
       "  <tbody>\n",
       "    <tr>\n",
       "      <th>0</th>\n",
       "      <td>Integrating Markov processes with structural c...</td>\n",
       "      <td>https://arxiv.org/abs/1911.02175</td>\n",
       "    </tr>\n",
       "    <tr>\n",
       "      <th>1</th>\n",
       "      <td>Information-Theoretic Generalization Bounds fo...</td>\n",
       "      <td>https://arxiv.org/abs/1911.02151</td>\n",
       "    </tr>\n",
       "    <tr>\n",
       "      <th>2</th>\n",
       "      <td>Designing over uncertain outcomes with stochas...</td>\n",
       "      <td>https://arxiv.org/abs/1911.02106</td>\n",
       "    </tr>\n",
       "    <tr>\n",
       "      <th>3</th>\n",
       "      <td>An Alternative Probabilistic Interpretation of...</td>\n",
       "      <td>https://arxiv.org/abs/1911.02088</td>\n",
       "    </tr>\n",
       "    <tr>\n",
       "      <th>4</th>\n",
       "      <td>MLPerf Inference Benchmark</td>\n",
       "      <td>https://arxiv.org/abs/1911.02549</td>\n",
       "    </tr>\n",
       "  </tbody>\n",
       "</table>\n",
       "</div>"
      ],
      "text/plain": [
       "                                               title  \\\n",
       "0  Integrating Markov processes with structural c...   \n",
       "1  Information-Theoretic Generalization Bounds fo...   \n",
       "2  Designing over uncertain outcomes with stochas...   \n",
       "3  An Alternative Probabilistic Interpretation of...   \n",
       "4                         MLPerf Inference Benchmark   \n",
       "\n",
       "                                url  \n",
       "0  https://arxiv.org/abs/1911.02175  \n",
       "1  https://arxiv.org/abs/1911.02151  \n",
       "2  https://arxiv.org/abs/1911.02106  \n",
       "3  https://arxiv.org/abs/1911.02088  \n",
       "4  https://arxiv.org/abs/1911.02549  "
      ]
     },
     "execution_count": 126,
     "metadata": {},
     "output_type": "execute_result"
    }
   ],
   "source": [
    "# Depuramos la información que no necesitamos\n",
    "df_values = df_values.assign(title=df_values.title.str.lstrip(\"Title: \"))\n",
    "df_values.head()"
   ]
  },
  {
   "cell_type": "code",
   "execution_count": 127,
   "metadata": {},
   "outputs": [],
   "source": [
    "# df_values.to_csv(\"ML-arxiv.csv\", index=False)"
   ]
  },
  {
   "cell_type": "markdown",
   "metadata": {},
   "source": [
    "## Queries al sistema\n",
    "\n",
    "En ocasiones un *GET method* puede venir acompañado con parámetros obligatorios u opcionales para el sistema.\n",
    "\n",
    "* Se denota una sección de parámetros de consulta por medio de `?`.\n",
    "* cada par parametro-valor se denota `param=val`\n",
    "* se separa cada query por medio de `&`\n",
    "\n",
    "```\n",
    "http://some-page.com?key1=val1&key2=val2&..&keyn=valn\n",
    "```"
   ]
  },
  {
   "cell_type": "code",
   "execution_count": 129,
   "metadata": {},
   "outputs": [
    {
     "data": {
      "text/plain": [
       "<Response [200]>"
      ]
     },
     "execution_count": 129,
     "metadata": {},
     "output_type": "execute_result"
    }
   ],
   "source": [
    "url = \"https://arxiv.org/list/stat.ML/recent?show=250\"\n",
    "with HTMLSession() as sess:\n",
    "    r = sess.get(url)\n",
    "r"
   ]
  },
  {
   "cell_type": "code",
   "execution_count": 132,
   "metadata": {},
   "outputs": [
    {
     "data": {
      "text/plain": [
       "250"
      ]
     },
     "execution_count": 132,
     "metadata": {},
     "output_type": "execute_result"
    }
   ],
   "source": [
    "papers_titles = r.html.find(\"div[id='dlpage']\", first=True).find(\"dd\")\n",
    "len(papers_titles)"
   ]
  },
  {
   "cell_type": "markdown",
   "metadata": {},
   "source": [
    "### Una manera más limpia de mandar queries"
   ]
  },
  {
   "cell_type": "code",
   "execution_count": 133,
   "metadata": {},
   "outputs": [
    {
     "data": {
      "text/plain": [
       "<Response [200]>"
      ]
     },
     "execution_count": 133,
     "metadata": {},
     "output_type": "execute_result"
    }
   ],
   "source": [
    "url = \"https://arxiv.org/list/stat.ML/recent\"\n",
    "data = {\n",
    "    \"show\": 250\n",
    "}\n",
    "with HTMLSession() as sess:\n",
    "    r = sess.get(url, params=data)\n",
    "r"
   ]
  },
  {
   "cell_type": "code",
   "execution_count": 134,
   "metadata": {},
   "outputs": [
    {
     "data": {
      "text/plain": [
       "250"
      ]
     },
     "execution_count": 134,
     "metadata": {},
     "output_type": "execute_result"
    }
   ],
   "source": [
    "papers_titles = r.html.find(\"div[id='dlpage']\", first=True).find(\"dd\")\n",
    "len(papers_titles)"
   ]
  },
  {
   "cell_type": "markdown",
   "metadata": {},
   "source": [
    "<h1 style=\"color:#872325\">APIs</h1>\n",
    "\n",
    "En ocasiones no es necesario acceder a un HTML a fin de obtener la información deseada."
   ]
  },
  {
   "cell_type": "code",
   "execution_count": 135,
   "metadata": {},
   "outputs": [],
   "source": [
    "url = \"https://www.alphavantage.co\""
   ]
  },
  {
   "cell_type": "markdown",
   "metadata": {},
   "source": [
    "<h2 style=\"color:crimson\">Ejercicios</h2>\n",
    "\n",
    "1. Repite el ejemplo *Arxiv ML Papers (I)*, agrega dos nuevas columnas al DataFrame final: `Abstract`, con el resumen de cada paper; `Submitted`, con la fecha en la que fue agregado al sistema. **Hint**: Ambos elementos se encuentran dentro de la *url* encontrada."
   ]
  },
  {
   "cell_type": "markdown",
   "metadata": {},
   "source": [
    "## References\n",
    "\n",
    "\n",
    "* https://developer.mozilla.org/en-US/docs/Web\n",
    "* https://www.w3schools.com/tags/ref_httpmethods.asp"
   ]
  }
 ],
 "metadata": {
  "kernelspec": {
   "display_name": "Python 3",
   "language": "python",
   "name": "python3"
  },
  "language_info": {
   "codemirror_mode": {
    "name": "ipython",
    "version": 3
   },
   "file_extension": ".py",
   "mimetype": "text/x-python",
   "name": "python",
   "nbconvert_exporter": "python",
   "pygments_lexer": "ipython3",
   "version": "3.7.5"
  }
 },
 "nbformat": 4,
 "nbformat_minor": 2
}
