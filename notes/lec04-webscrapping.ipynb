{
 "cells": [
  {
   "cell_type": "markdown",
   "metadata": {},
   "source": [
    "<img src=\"../files/misc/logo.png\" width=300/>\n",
    "<h1 style=\"color:#872325\"> Webscrapping </h1>"
   ]
  },
  {
   "cell_type": "markdown",
   "metadata": {},
   "source": [
    "De acuerdo a [Wikipedia](https://es.wikipedia.org/wiki/Web_scraping), *Web Scrapping*, \n",
    "\n",
    "> es una técnica utilizada mediante programas de software para extraer información de sitios web. Usualmente, estos programas simulan la navegación de un humano en la World Wide Web ya sea utilizando el protocolo HTTP manualmente, o incrustando un navegador en una aplicación.\n",
    "\n",
    "Para fines prácticos, realizamos un web scrapping cuándo no contamos con alguna manera de acceder a información estructurada de datos por analizar (.csv, .json, base de datos, API). "
   ]
  },
  {
   "cell_type": "markdown",
   "metadata": {},
   "source": [
    "---\n",
    "\n",
    "## HTML\n",
    "Al hacer webscrapping, dependemos de la estructura de la página web para poder acceder a la información que deseamos obtener. La estructura de la página web se define mediante un lenguaje llamado `HTML` (Hypertext Markup Language) el cual se compone por medio de *tags*.\n",
    "\n",
    "```HTML\n",
    "<tag>\n",
    "</tag>\n",
    "```\n",
    "\n",
    "Un *tag* define una sección de la página. Cada *tag* tiene una propiedad. Un conjunto de estos tags definen el cuerpo de la página.\n",
    "\n",
    "\n",
    "### Una primera página web\n",
    "```HTML\n",
    "<!DOCTYPE html>\n",
    "<html>\n",
    "<body>\n",
    "\n",
    "<h1>Data Science and Machine Learning</h1>\n",
    "\n",
    "</body>\n",
    "</html>\n",
    "```\n",
    "\n",
    "Para nuestros fines, un *tag* representará una sección dentro de la página la cuál nos gustaría explorar o extraer."
   ]
  },
  {
   "cell_type": "markdown",
   "metadata": {},
   "source": [
    "---\n",
    "\n",
    "## CSS\n",
    "\n",
    "Un *Cascading Style Sheet* (CSS), es un archivo que viene acompañado de un html y define el estilo de la página.\n",
    "\n",
    "```CSS\n",
    "selector {\n",
    "    property: property-value;\n",
    "}\n",
    "```\n",
    "\n",
    "Cada *selector* contiene diferentes [propiedades](http://web.simmons.edu/~grabiner/comm244/weekthree/css-basic-properties.html) de acuerdo al *tag*, clase o *id* que le corresponda.\n",
    "\n",
    "Para fines de webscrapping, un los *tags*, *ids* y *clases* ofrencen estrucura dentro de una página.\n",
    "\n",
    "* Tags: estructura general\n",
    "* Clase: secciones genéricas dentro de una página\n",
    "* *id*: Secciones especifícas"
   ]
  },
  {
   "cell_type": "markdown",
   "metadata": {},
   "source": [
    "---\n",
    "\n",
    "## Javascript y el DOM\n",
    "\n",
    "La mayoría de las páginas que visitamos hoy en día son interactivas. La interactividad de un una página web es proporcionada por un lenguaje de programación llamado `javascript`.\n",
    "\n",
    "La manera en la que Javascript asigna u obtiene elementos de una página se conoce como el *Document Object Notation* (DOM).\n",
    "\n",
    "Para fines de webscrapping, esto es importante puesto que en ocasiones, una página es vacía hasta que un programa de Javascript se ejecuta para arrojar información."
   ]
  },
  {
   "cell_type": "markdown",
   "metadata": {},
   "source": [
    "## Un primer webscrap\n",
    "\n",
    "En este módulo estaremos ocupando la librería [requests_html](https://github.com/psf/requests-html) para hacer webscrapping."
   ]
  },
  {
   "cell_type": "code",
   "execution_count": 1,
   "metadata": {},
   "outputs": [],
   "source": [
    "from requests_html import HTML    "
   ]
  },
  {
   "cell_type": "code",
   "execution_count": 2,
   "metadata": {
    "scrolled": true
   },
   "outputs": [
    {
     "name": "stdout",
     "output_type": "stream",
     "text": [
      "<!DOCTYPE html>\n",
      "<html>\n",
      "<head>\n",
      "    <link href=\"style2.css\" rel=\"stylesheet\"/>\n",
      "</head>\n",
      "\n",
      "<body>\n",
      "\n",
      "    <h1>Data Science and Machine Learning</h1>\n",
      "\n",
      "    <div class=\"my_class\">\n",
      "        <p> By <a href=\"https://bit.ly/34EdyH2\">Analysic Nabla</a></p>\n",
      "        <p> At the <a href=\"https://bit.ly/2qDvao4\">ITAM</a></p>\n",
      "    </div>\n",
      "\n",
      "</body>\n",
      "</html>\n",
      "\n"
     ]
    }
   ],
   "source": [
    "with open(\"../files/lec04/ex03.html\") as f:\n",
    "    webp = f.read()\n",
    "\n",
    "html = HTML(html=webp)\n",
    "print(html.html)"
   ]
  },
  {
   "cell_type": "code",
   "execution_count": 3,
   "metadata": {},
   "outputs": [
    {
     "data": {
      "text/plain": [
       "{'https://bit.ly/2qDvao4', 'https://bit.ly/34EdyH2'}"
      ]
     },
     "execution_count": 3,
     "metadata": {},
     "output_type": "execute_result"
    }
   ],
   "source": [
    "# Extrayendo todos los links de la página\n",
    "html.links"
   ]
  },
  {
   "cell_type": "code",
   "execution_count": 4,
   "metadata": {},
   "outputs": [
    {
     "data": {
      "text/plain": [
       "'Data Science and Machine Learning'"
      ]
     },
     "execution_count": 4,
     "metadata": {},
     "output_type": "execute_result"
    }
   ],
   "source": [
    "# Extrayendo el primer encabezado de la página\n",
    "html.find(\"H1\", first=True).text"
   ]
  },
  {
   "cell_type": "code",
   "execution_count": 5,
   "metadata": {},
   "outputs": [
    {
     "data": {
      "text/plain": [
       "[<Element 'p' >, <Element 'p' >]"
      ]
     },
     "execution_count": 5,
     "metadata": {},
     "output_type": "execute_result"
    }
   ],
   "source": [
    "# Buscando todos los elementos <p> (paragrapshs)\n",
    "html.find(\"p\")"
   ]
  },
  {
   "cell_type": "code",
   "execution_count": 6,
   "metadata": {},
   "outputs": [
    {
     "data": {
      "text/plain": [
       "<Element 'div' class=('my_class',)>"
      ]
     },
     "execution_count": 6,
     "metadata": {},
     "output_type": "execute_result"
    }
   ],
   "source": [
    "# Extrayendo una sección dentro de un div\n",
    "html.find(\"div\", first=True)"
   ]
  },
  {
   "cell_type": "markdown",
   "metadata": {},
   "source": [
    "### Un segundo ejemplo"
   ]
  },
  {
   "cell_type": "code",
   "execution_count": 7,
   "metadata": {},
   "outputs": [
    {
     "name": "stdout",
     "output_type": "stream",
     "text": [
      "<!DOCTYPE html>\n",
      "<html>\n",
      "<head>\n",
      "    <link href=\"style2.css\" rel=\"stylesheet\"/>\n",
      "    <script>\n",
      "        function sendGreeting() {\n",
      "            document.getElementById(\"greeting\").innerHTML = \"Aprendamos a hacer webscrapping!\"\n",
      "        }\n",
      "        \n",
      "\n",
      "    </script>\n",
      "</head>\n",
      "\n",
      "<body onload=\"sendGreeting()\">\n",
      "    <h1>Data Science and Machine Learning</h1>\n",
      "\n",
      "    <div class=\"my_class\">\n",
      "        <p>Por Analysic Nabla</p>\n",
      "        <p>En el ITAM</p>\n",
      "        <p id=\"greeting\"></p>\n",
      "    </div>\n",
      "\n",
      "</body>\n",
      "</html>\n",
      "\n"
     ]
    }
   ],
   "source": [
    "with open(\"../files/lec04/ex04.html\") as f:\n",
    "    webp = f.read()\n",
    "\n",
    "html = HTML(html=webp)\n",
    "print(html.html)"
   ]
  },
  {
   "cell_type": "code",
   "execution_count": 8,
   "metadata": {},
   "outputs": [
    {
     "name": "stdout",
     "output_type": "stream",
     "text": [
      "Por Analysic Nabla\n",
      "En el ITAM\n",
      "\n"
     ]
    }
   ],
   "source": [
    "# ¿Qué notamos en este ejemplo que no concuerde\n",
    "# con lo que esperaríamos ver en la página?\n",
    "for item in html.find(\"p\"):\n",
    "    print(item.text)"
   ]
  },
  {
   "cell_type": "code",
   "execution_count": 9,
   "metadata": {},
   "outputs": [
    {
     "data": {
      "text/plain": [
       "<Element 'p' id='greeting'>"
      ]
     },
     "execution_count": 9,
     "metadata": {},
     "output_type": "execute_result"
    }
   ],
   "source": [
    "html.find(\"p[id='greeting']\", first=True)"
   ]
  },
  {
   "cell_type": "markdown",
   "metadata": {},
   "source": [
    "<h1 style=\"color:#872325\">HTTP Requests</h1>\n",
    "\n",
    "Las páginas que visitamos día a día viven en un servidor y no en nuestra computadora. Al abrir nuestro navegador y entrar a una página, el navegador solicita la información de la página al servidor por medio de un proceso de intercambio de información conocido como HTTP.\n",
    "\n",
    "> *Hypertext Transfer Protocol* (HTTP) es un proceso mediante el cual se hace un intercambio de información entre un cliente (un navegador) y un servidor por medio de mensajes.\n",
    "\n",
    "![server](https://mdn.mozillademos.org/files/13677/Fetching_a_page.png)\n",
    "**Fuente**x: https://developer.mozilla.org"
   ]
  },
  {
   "cell_type": "markdown",
   "metadata": {},
   "source": [
    "Dependiendo del tipo de mensaje que le mandemos a un servidor, este procesará la información enviada desde el cliente (nosotros) de diferentes maneras. Para fines de webscrapping, los métodos más comúnes de comunicarte con un servidor son:\n",
    "\n",
    "* `GET`: Solicitia un archivo determinado al servidor. Un *GET Request* se debe usar exclusivamente para adquirir información.\n",
    "    * Obtener información de una página web\n",
    "    * Cargar una imágen\n",
    "\n",
    "* `POST`: Envía datos al servidor para ser procesados\n",
    "    * Dejar tu número celular en una página\n",
    "    * Loggearte\n",
    "    * Dejar un comentario en un blog post"
   ]
  },
  {
   "cell_type": "markdown",
   "metadata": {},
   "source": [
    "En Python, podemos hacer conexiones a una página por medio de la librería `requests`"
   ]
  },
  {
   "cell_type": "code",
   "execution_count": 10,
   "metadata": {},
   "outputs": [],
   "source": [
    "import requests"
   ]
  },
  {
   "cell_type": "code",
   "execution_count": 11,
   "metadata": {},
   "outputs": [
    {
     "data": {
      "text/plain": [
       "<Response [200]>"
      ]
     },
     "execution_count": 11,
     "metadata": {},
     "output_type": "execute_result"
    }
   ],
   "source": [
    "r = requests.get(\"https://nabla.mx\")\n",
    "r"
   ]
  },
  {
   "cell_type": "markdown",
   "metadata": {},
   "source": [
    "Posteriormente tendríamos que pasarlo a una instancia de la clase `HTML` para poder analizar la página. Para evitar esto, podemos hacer uso de la clase `HTMLSession` que nos permite hacer llamadas al servidor y acceso al html que nos regrese."
   ]
  },
  {
   "cell_type": "code",
   "execution_count": 12,
   "metadata": {},
   "outputs": [],
   "source": [
    "from requests_html import HTMLSession"
   ]
  },
  {
   "cell_type": "code",
   "execution_count": 13,
   "metadata": {},
   "outputs": [
    {
     "data": {
      "text/plain": [
       "<Response [200]>"
      ]
     },
     "execution_count": 13,
     "metadata": {},
     "output_type": "execute_result"
    }
   ],
   "source": [
    "with HTMLSession() as sess:\n",
    "    r = sess.get(\"https://nabla.mx\")\n",
    "r"
   ]
  },
  {
   "cell_type": "code",
   "execution_count": 14,
   "metadata": {},
   "outputs": [
    {
     "data": {
      "text/plain": [
       "{'https://analysic-nabla.github.io/',\n",
       " 'https://melectrico.nabla.mx/',\n",
       " 'https://twitter.com/AnalysicNabla',\n",
       " 'https://www.facebook.com/Analysic-Nabla-326424374613601/',\n",
       " 'https://www.instagram.com/analysicnabla/?hl=es-la',\n",
       " 'https://www.linkedin.com/company/analysic-nabla/',\n",
       " 'https://www.nabla.mx',\n",
       " 'https://www.nabla.mx/acerca-de',\n",
       " 'https://www.nabla.mx/contacto',\n",
       " 'https://www.nabla.mx/novedades',\n",
       " 'https://www.nabla.mx/proyectos',\n",
       " 'https://www.nabla.mx/servicios'}"
      ]
     },
     "execution_count": 14,
     "metadata": {},
     "output_type": "execute_result"
    }
   ],
   "source": [
    "r.html.links"
   ]
  },
  {
   "cell_type": "markdown",
   "metadata": {},
   "source": [
    "<h1 style=\"color:#872325\">Webscrapping</h1>"
   ]
  },
  {
   "cell_type": "markdown",
   "metadata": {},
   "source": [
    "<h2 style=\"color:teal\">Ejemplo: Arxiv ML Papers (I)</h2>\n",
    "\n",
    "Consigue el nombre y el link de los último 25 papers en Machine Learning publicados en Arxiv y guárdalos dentro de un archivo `csv`."
   ]
  },
  {
   "cell_type": "code",
   "execution_count": 15,
   "metadata": {},
   "outputs": [],
   "source": [
    "from requests_html import HTMLSession\n",
    "import pandas as pd"
   ]
  },
  {
   "cell_type": "code",
   "execution_count": 16,
   "metadata": {},
   "outputs": [
    {
     "data": {
      "text/plain": [
       "<Response [200]>"
      ]
     },
     "execution_count": 16,
     "metadata": {},
     "output_type": "execute_result"
    }
   ],
   "source": [
    "url = \"https://arxiv.org/list/stat.ML/recent\"\n",
    "with HTMLSession() as sess:\n",
    "    r = sess.get(url)\n",
    "r"
   ]
  },
  {
   "cell_type": "code",
   "execution_count": 17,
   "metadata": {},
   "outputs": [],
   "source": [
    "divpage = r.html.find(\"div[id='dlpage']\", first=True)"
   ]
  },
  {
   "cell_type": "code",
   "execution_count": 18,
   "metadata": {},
   "outputs": [
    {
     "data": {
      "text/plain": [
       "'Machine Learning'"
      ]
     },
     "execution_count": 18,
     "metadata": {},
     "output_type": "execute_result"
    }
   ],
   "source": [
    "divpage.find(\"h1\", first=True).text"
   ]
  },
  {
   "cell_type": "code",
   "execution_count": 19,
   "metadata": {},
   "outputs": [
    {
     "data": {
      "text/plain": [
       "25"
      ]
     },
     "execution_count": 19,
     "metadata": {},
     "output_type": "execute_result"
    }
   ],
   "source": [
    "papers_links = divpage.find(\"dt\")\n",
    "len(papers_links)"
   ]
  },
  {
   "cell_type": "code",
   "execution_count": 20,
   "metadata": {},
   "outputs": [
    {
     "data": {
      "text/plain": [
       "25"
      ]
     },
     "execution_count": 20,
     "metadata": {},
     "output_type": "execute_result"
    }
   ],
   "source": [
    "papers_titles = divpage.find(\"dd\")\n",
    "len(papers_titles)"
   ]
  },
  {
   "cell_type": "code",
   "execution_count": 21,
   "metadata": {},
   "outputs": [],
   "source": [
    "values = []\n",
    "for link_secc, title_secc in zip(papers_links, papers_titles):\n",
    "    title = title_secc.find(\"div[class='list-title mathjax']\", first=True).text\n",
    "    \n",
    "    abstract_url = link_secc.find(\"a[title='Abstract']\", first=True).absolute_links\n",
    "    abstract_url, *_ = abstract_url\n",
    "    \n",
    "    values.append([title, abstract_url])"
   ]
  },
  {
   "cell_type": "code",
   "execution_count": 22,
   "metadata": {},
   "outputs": [
    {
     "data": {
      "text/html": [
       "<div>\n",
       "<style scoped>\n",
       "    .dataframe tbody tr th:only-of-type {\n",
       "        vertical-align: middle;\n",
       "    }\n",
       "\n",
       "    .dataframe tbody tr th {\n",
       "        vertical-align: top;\n",
       "    }\n",
       "\n",
       "    .dataframe thead th {\n",
       "        text-align: right;\n",
       "    }\n",
       "</style>\n",
       "<table border=\"1\" class=\"dataframe\">\n",
       "  <thead>\n",
       "    <tr style=\"text-align: right;\">\n",
       "      <th></th>\n",
       "      <th>title</th>\n",
       "      <th>url</th>\n",
       "    </tr>\n",
       "  </thead>\n",
       "  <tbody>\n",
       "    <tr>\n",
       "      <th>0</th>\n",
       "      <td>Title: Scalable Exact Inference in Multi-Outpu...</td>\n",
       "      <td>https://arxiv.org/abs/1911.06287</td>\n",
       "    </tr>\n",
       "    <tr>\n",
       "      <th>1</th>\n",
       "      <td>Title: Understanding Graph Neural Networks wit...</td>\n",
       "      <td>https://arxiv.org/abs/1911.06253</td>\n",
       "    </tr>\n",
       "    <tr>\n",
       "      <th>2</th>\n",
       "      <td>Title: Unreliable Multi-Armed Bandits: A Novel...</td>\n",
       "      <td>https://arxiv.org/abs/1911.06239</td>\n",
       "    </tr>\n",
       "    <tr>\n",
       "      <th>3</th>\n",
       "      <td>Title: Analysis of the fiber laydown quality i...</td>\n",
       "      <td>https://arxiv.org/abs/1911.06213</td>\n",
       "    </tr>\n",
       "    <tr>\n",
       "      <th>4</th>\n",
       "      <td>Title: Distributional Clustering: A distributi...</td>\n",
       "      <td>https://arxiv.org/abs/1911.05940</td>\n",
       "    </tr>\n",
       "  </tbody>\n",
       "</table>\n",
       "</div>"
      ],
      "text/plain": [
       "                                               title  \\\n",
       "0  Title: Scalable Exact Inference in Multi-Outpu...   \n",
       "1  Title: Understanding Graph Neural Networks wit...   \n",
       "2  Title: Unreliable Multi-Armed Bandits: A Novel...   \n",
       "3  Title: Analysis of the fiber laydown quality i...   \n",
       "4  Title: Distributional Clustering: A distributi...   \n",
       "\n",
       "                                url  \n",
       "0  https://arxiv.org/abs/1911.06287  \n",
       "1  https://arxiv.org/abs/1911.06253  \n",
       "2  https://arxiv.org/abs/1911.06239  \n",
       "3  https://arxiv.org/abs/1911.06213  \n",
       "4  https://arxiv.org/abs/1911.05940  "
      ]
     },
     "execution_count": 22,
     "metadata": {},
     "output_type": "execute_result"
    }
   ],
   "source": [
    "df_values = pd.DataFrame(values, columns=[\"title\", \"url\"])\n",
    "df_values.head()"
   ]
  },
  {
   "cell_type": "code",
   "execution_count": 23,
   "metadata": {},
   "outputs": [
    {
     "data": {
      "text/html": [
       "<div>\n",
       "<style scoped>\n",
       "    .dataframe tbody tr th:only-of-type {\n",
       "        vertical-align: middle;\n",
       "    }\n",
       "\n",
       "    .dataframe tbody tr th {\n",
       "        vertical-align: top;\n",
       "    }\n",
       "\n",
       "    .dataframe thead th {\n",
       "        text-align: right;\n",
       "    }\n",
       "</style>\n",
       "<table border=\"1\" class=\"dataframe\">\n",
       "  <thead>\n",
       "    <tr style=\"text-align: right;\">\n",
       "      <th></th>\n",
       "      <th>title</th>\n",
       "      <th>url</th>\n",
       "    </tr>\n",
       "  </thead>\n",
       "  <tbody>\n",
       "    <tr>\n",
       "      <th>0</th>\n",
       "      <td>Scalable Exact Inference in Multi-Output Gauss...</td>\n",
       "      <td>https://arxiv.org/abs/1911.06287</td>\n",
       "    </tr>\n",
       "    <tr>\n",
       "      <th>1</th>\n",
       "      <td>Understanding Graph Neural Networks with Asymm...</td>\n",
       "      <td>https://arxiv.org/abs/1911.06253</td>\n",
       "    </tr>\n",
       "    <tr>\n",
       "      <th>2</th>\n",
       "      <td>Unreliable Multi-Armed Bandits: A Novel Approa...</td>\n",
       "      <td>https://arxiv.org/abs/1911.06239</td>\n",
       "    </tr>\n",
       "    <tr>\n",
       "      <th>3</th>\n",
       "      <td>Analysis of the fiber laydown quality in spunb...</td>\n",
       "      <td>https://arxiv.org/abs/1911.06213</td>\n",
       "    </tr>\n",
       "    <tr>\n",
       "      <th>4</th>\n",
       "      <td>Distributional Clustering: A distribution-pres...</td>\n",
       "      <td>https://arxiv.org/abs/1911.05940</td>\n",
       "    </tr>\n",
       "  </tbody>\n",
       "</table>\n",
       "</div>"
      ],
      "text/plain": [
       "                                               title  \\\n",
       "0  Scalable Exact Inference in Multi-Output Gauss...   \n",
       "1  Understanding Graph Neural Networks with Asymm...   \n",
       "2  Unreliable Multi-Armed Bandits: A Novel Approa...   \n",
       "3  Analysis of the fiber laydown quality in spunb...   \n",
       "4  Distributional Clustering: A distribution-pres...   \n",
       "\n",
       "                                url  \n",
       "0  https://arxiv.org/abs/1911.06287  \n",
       "1  https://arxiv.org/abs/1911.06253  \n",
       "2  https://arxiv.org/abs/1911.06239  \n",
       "3  https://arxiv.org/abs/1911.06213  \n",
       "4  https://arxiv.org/abs/1911.05940  "
      ]
     },
     "execution_count": 23,
     "metadata": {},
     "output_type": "execute_result"
    }
   ],
   "source": [
    "# Depuramos la información que no necesitamos\n",
    "df_values = df_values.assign(title=df_values.title.str.lstrip(\"Title: \"))\n",
    "df_values.head()"
   ]
  },
  {
   "cell_type": "code",
   "execution_count": 24,
   "metadata": {},
   "outputs": [],
   "source": [
    "# df_values.to_csv(\"ML-arxiv.csv\", index=False)"
   ]
  },
  {
   "cell_type": "markdown",
   "metadata": {},
   "source": [
    "## Queries al sistema\n",
    "\n",
    "En ocasiones un *GET method* puede venir acompañado con parámetros obligatorios u opcionales para el sistema.\n",
    "\n",
    "* Se denota una sección de parámetros de consulta por medio de `?`.\n",
    "* cada par parametro-valor se denota `param=val`\n",
    "* se separa cada query por medio de `&`\n",
    "\n",
    "```\n",
    "http://some-page.com?key1=val1&key2=val2&..&keyn=valn\n",
    "```"
   ]
  },
  {
   "cell_type": "code",
   "execution_count": 25,
   "metadata": {},
   "outputs": [
    {
     "data": {
      "text/plain": [
       "<Response [200]>"
      ]
     },
     "execution_count": 25,
     "metadata": {},
     "output_type": "execute_result"
    }
   ],
   "source": [
    "url = \"https://arxiv.org/list/stat.ML/recent?show=250\"\n",
    "with HTMLSession() as sess:\n",
    "    r = sess.get(url)\n",
    "r"
   ]
  },
  {
   "cell_type": "code",
   "execution_count": 26,
   "metadata": {},
   "outputs": [
    {
     "data": {
      "text/plain": [
       "250"
      ]
     },
     "execution_count": 26,
     "metadata": {},
     "output_type": "execute_result"
    }
   ],
   "source": [
    "papers_titles = r.html.find(\"div[id='dlpage']\", first=True).find(\"dd\")\n",
    "len(papers_titles)"
   ]
  },
  {
   "cell_type": "markdown",
   "metadata": {},
   "source": [
    "### Una manera más limpia de mandar queries"
   ]
  },
  {
   "cell_type": "code",
   "execution_count": 27,
   "metadata": {},
   "outputs": [
    {
     "data": {
      "text/plain": [
       "<Response [200]>"
      ]
     },
     "execution_count": 27,
     "metadata": {},
     "output_type": "execute_result"
    }
   ],
   "source": [
    "url = \"https://arxiv.org/list/stat.ML/recent\"\n",
    "data = {\n",
    "    \"show\": 250\n",
    "}\n",
    "with HTMLSession() as sess:\n",
    "    r = sess.get(url, params=data)\n",
    "r"
   ]
  },
  {
   "cell_type": "code",
   "execution_count": 28,
   "metadata": {},
   "outputs": [
    {
     "data": {
      "text/plain": [
       "250"
      ]
     },
     "execution_count": 28,
     "metadata": {},
     "output_type": "execute_result"
    }
   ],
   "source": [
    "papers_titles = r.html.find(\"div[id='dlpage']\", first=True).find(\"dd\")\n",
    "len(papers_titles)"
   ]
  },
  {
   "cell_type": "markdown",
   "metadata": {},
   "source": [
    "<h1 style=\"color:#872325\">APIs</h1>\n",
    "\n",
    "En ocasiones no es necesario acceder a un HTML a fin de obtener la información deseada de una página web. \n",
    "\n",
    "Un API (*Application programming interface*),\n",
    "> es un protocolo de comunicación entre un cliente y un servidor diseñado para simplificar la creación aplicaciónes por parte del cliente. [...] Un API está diseñado de tal manera que si el cliente hace una petición al sistema en un formato específico, siempre tendrá el mismo formato de respuesta por parte del servidor, o iniciará una acción definida."
   ]
  },
  {
   "cell_type": "markdown",
   "metadata": {},
   "source": [
    "En esta sección ocuparemos el API de [Alpha Vantage](https://www.alphavantage.co), un proveedor de información histórica y tiempo real de datos de acciones, FX y criptomonedas."
   ]
  },
  {
   "cell_type": "markdown",
   "metadata": {},
   "source": [
    "<h2 style=\"color:teal\">Ejemplo: Alpha Vantage</h2>"
   ]
  },
  {
   "cell_type": "markdown",
   "metadata": {},
   "source": [
    "A fin de hacer mejor uso de un API es importante siempre revisar la documentación del API."
   ]
  },
  {
   "cell_type": "code",
   "execution_count": 3,
   "metadata": {},
   "outputs": [],
   "source": [
    "import os\n",
    "import requests\n",
    "import pandas as pd\n",
    "import matplotlib.pyplot as plt"
   ]
  },
  {
   "cell_type": "code",
   "execution_count": 51,
   "metadata": {},
   "outputs": [],
   "source": [
    "%config InlineBackend.figure_format = \"retina\""
   ]
  },
  {
   "cell_type": "code",
   "execution_count": 1,
   "metadata": {},
   "outputs": [],
   "source": [
    "url = \"https://www.alphavantage.co\"\n",
    "base_url = \"https://www.alphavantage.co/query\"\n",
    "# Cargamos el API Key de Alpha Vantage (es personal)\n",
    "avkey = os.environ[\"ALPHA_VANTAGE_KEY\"]"
   ]
  },
  {
   "cell_type": "code",
   "execution_count": 5,
   "metadata": {},
   "outputs": [
    {
     "data": {
      "text/html": [
       "<div>\n",
       "<style scoped>\n",
       "    .dataframe tbody tr th:only-of-type {\n",
       "        vertical-align: middle;\n",
       "    }\n",
       "\n",
       "    .dataframe tbody tr th {\n",
       "        vertical-align: top;\n",
       "    }\n",
       "\n",
       "    .dataframe thead th {\n",
       "        text-align: right;\n",
       "    }\n",
       "</style>\n",
       "<table border=\"1\" class=\"dataframe\">\n",
       "  <thead>\n",
       "    <tr style=\"text-align: right;\">\n",
       "      <th></th>\n",
       "      <th>currency code</th>\n",
       "    </tr>\n",
       "    <tr>\n",
       "      <th>currency name</th>\n",
       "      <th></th>\n",
       "    </tr>\n",
       "  </thead>\n",
       "  <tbody>\n",
       "    <tr>\n",
       "      <th>United Arab Emirates Dirham</th>\n",
       "      <td>AED</td>\n",
       "    </tr>\n",
       "    <tr>\n",
       "      <th>Afghan Afghani</th>\n",
       "      <td>AFN</td>\n",
       "    </tr>\n",
       "    <tr>\n",
       "      <th>Albanian Lek</th>\n",
       "      <td>ALL</td>\n",
       "    </tr>\n",
       "    <tr>\n",
       "      <th>Armenian Dram</th>\n",
       "      <td>AMD</td>\n",
       "    </tr>\n",
       "    <tr>\n",
       "      <th>Netherlands Antillean Guilder</th>\n",
       "      <td>ANG</td>\n",
       "    </tr>\n",
       "  </tbody>\n",
       "</table>\n",
       "</div>"
      ],
      "text/plain": [
       "                              currency code\n",
       "currency name                              \n",
       "United Arab Emirates Dirham             AED\n",
       "Afghan Afghani                          AFN\n",
       "Albanian Lek                            ALL\n",
       "Armenian Dram                           AMD\n",
       "Netherlands Antillean Guilder           ANG"
      ]
     },
     "execution_count": 5,
     "metadata": {},
     "output_type": "execute_result"
    }
   ],
   "source": [
    "curr_list_url = \"https://www.alphavantage.co/physical_currency_list/\"\n",
    "curr_list = pd.read_csv(curr_list_url).set_index(\"currency name\")\n",
    "curr_list.head()"
   ]
  },
  {
   "cell_type": "code",
   "execution_count": 6,
   "metadata": {},
   "outputs": [
    {
     "data": {
      "text/html": [
       "<div>\n",
       "<style scoped>\n",
       "    .dataframe tbody tr th:only-of-type {\n",
       "        vertical-align: middle;\n",
       "    }\n",
       "\n",
       "    .dataframe tbody tr th {\n",
       "        vertical-align: top;\n",
       "    }\n",
       "\n",
       "    .dataframe thead th {\n",
       "        text-align: right;\n",
       "    }\n",
       "</style>\n",
       "<table border=\"1\" class=\"dataframe\">\n",
       "  <thead>\n",
       "    <tr style=\"text-align: right;\">\n",
       "      <th></th>\n",
       "      <th>currency code</th>\n",
       "    </tr>\n",
       "    <tr>\n",
       "      <th>currency name</th>\n",
       "      <th></th>\n",
       "    </tr>\n",
       "  </thead>\n",
       "  <tbody>\n",
       "    <tr>\n",
       "      <th>United States Dollar</th>\n",
       "      <td>USD</td>\n",
       "    </tr>\n",
       "  </tbody>\n",
       "</table>\n",
       "</div>"
      ],
      "text/plain": [
       "                     currency code\n",
       "currency name                     \n",
       "United States Dollar           USD"
      ]
     },
     "execution_count": 6,
     "metadata": {},
     "output_type": "execute_result"
    }
   ],
   "source": [
    "from_curr = \"United States Dollar\"\n",
    "curr_list.filter([from_curr], axis=0)"
   ]
  },
  {
   "cell_type": "code",
   "execution_count": 7,
   "metadata": {},
   "outputs": [
    {
     "data": {
      "text/html": [
       "<div>\n",
       "<style scoped>\n",
       "    .dataframe tbody tr th:only-of-type {\n",
       "        vertical-align: middle;\n",
       "    }\n",
       "\n",
       "    .dataframe tbody tr th {\n",
       "        vertical-align: top;\n",
       "    }\n",
       "\n",
       "    .dataframe thead th {\n",
       "        text-align: right;\n",
       "    }\n",
       "</style>\n",
       "<table border=\"1\" class=\"dataframe\">\n",
       "  <thead>\n",
       "    <tr style=\"text-align: right;\">\n",
       "      <th></th>\n",
       "      <th>currency code</th>\n",
       "    </tr>\n",
       "    <tr>\n",
       "      <th>currency name</th>\n",
       "      <th></th>\n",
       "    </tr>\n",
       "  </thead>\n",
       "  <tbody>\n",
       "    <tr>\n",
       "      <th>Mexican Peso</th>\n",
       "      <td>MXN</td>\n",
       "    </tr>\n",
       "    <tr>\n",
       "      <th>Euro</th>\n",
       "      <td>EUR</td>\n",
       "    </tr>\n",
       "    <tr>\n",
       "      <th>Brazilian Real</th>\n",
       "      <td>BRL</td>\n",
       "    </tr>\n",
       "    <tr>\n",
       "      <th>Argentine Peso</th>\n",
       "      <td>ARS</td>\n",
       "    </tr>\n",
       "  </tbody>\n",
       "</table>\n",
       "</div>"
      ],
      "text/plain": [
       "               currency code\n",
       "currency name               \n",
       "Mexican Peso             MXN\n",
       "Euro                     EUR\n",
       "Brazilian Real           BRL\n",
       "Argentine Peso           ARS"
      ]
     },
     "execution_count": 7,
     "metadata": {},
     "output_type": "execute_result"
    }
   ],
   "source": [
    "currencies = [\"Mexican Peso\", \"Euro\", \"Brazilian Real\", \"Argentine Peso\"]\n",
    "target_curr = curr_list.filter(currencies, axis=0)\n",
    "target_curr"
   ]
  },
  {
   "cell_type": "markdown",
   "metadata": {},
   "source": [
    "## Mensajes de Error"
   ]
  },
  {
   "cell_type": "markdown",
   "metadata": {},
   "source": [
    "Entramos a la páginas de AlphaVantage y revisamos la documentación para descargar información"
   ]
  },
  {
   "cell_type": "code",
   "execution_count": 34,
   "metadata": {},
   "outputs": [
    {
     "data": {
      "text/plain": [
       "<Response [200]>"
      ]
     },
     "execution_count": 34,
     "metadata": {},
     "output_type": "execute_result"
    }
   ],
   "source": [
    "intraday1 = {\n",
    "    \"function\": \"FX_INTRADAY\",\n",
    "    \"to_currency\": target_curr[\"currency code\"].values[0],\n",
    "    \"from_currency\": \"USD\",\n",
    "    \"apikey\": avkey\n",
    "}\n",
    "\n",
    "r = requests.get(base_url, params=intraday1)\n",
    "r"
   ]
  },
  {
   "cell_type": "code",
   "execution_count": 35,
   "metadata": {},
   "outputs": [
    {
     "data": {
      "text/plain": [
       "{'Error Message': 'Invalid API call. Please retry or visit the documentation (https://www.alphavantage.co/documentation/) for FX_INTRADAY.'}"
      ]
     },
     "execution_count": 35,
     "metadata": {},
     "output_type": "execute_result"
    }
   ],
   "source": [
    "r.json()"
   ]
  },
  {
   "cell_type": "code",
   "execution_count": 36,
   "metadata": {},
   "outputs": [
    {
     "data": {
      "text/plain": [
       "<Response [200]>"
      ]
     },
     "execution_count": 36,
     "metadata": {},
     "output_type": "execute_result"
    }
   ],
   "source": [
    "intraday2 = {\n",
    "    \"function\": \"FX_INTRADAY\",\n",
    "    \"to_symbol\": target_curr[\"currency code\"].values[0],\n",
    "    \"from_symbol\": \"USD\",\n",
    "    \"apikey\": avkey,\n",
    "    \"interval\": \"1min\"\n",
    "}\n",
    "\n",
    "r = requests.get(base_url, params=intraday2)\n",
    "r"
   ]
  },
  {
   "cell_type": "markdown",
   "metadata": {},
   "source": [
    "## Manipulando Información de Respuesta\n",
    "\n",
    "Una vez obtenida la información del API, el siguiente paso es manipular la información para poder analizarla. De ser una seríe de tiempo, lo más natural sería manipularla usando un pandas DataFrame."
   ]
  },
  {
   "cell_type": "code",
   "execution_count": 37,
   "metadata": {},
   "outputs": [
    {
     "data": {
      "text/plain": [
       "dict_keys(['Meta Data', 'Time Series FX (1min)'])"
      ]
     },
     "execution_count": 37,
     "metadata": {},
     "output_type": "execute_result"
    }
   ],
   "source": [
    "data = r.json()\n",
    "data.keys()"
   ]
  },
  {
   "cell_type": "code",
   "execution_count": 38,
   "metadata": {},
   "outputs": [
    {
     "data": {
      "text/plain": [
       "{'1. Information': 'FX Intraday (1min) Time Series',\n",
       " '2. From Symbol': 'USD',\n",
       " '3. To Symbol': 'MXN',\n",
       " '4. Last Refreshed': '2019-11-17 19:04:00',\n",
       " '5. Interval': '1min',\n",
       " '6. Output Size': 'Compact',\n",
       " '7. Time Zone': 'UTC'}"
      ]
     },
     "execution_count": 38,
     "metadata": {},
     "output_type": "execute_result"
    }
   ],
   "source": [
    "data[\"Meta Data\"]"
   ]
  },
  {
   "cell_type": "code",
   "execution_count": 39,
   "metadata": {},
   "outputs": [
    {
     "data": {
      "text/html": [
       "<div>\n",
       "<style scoped>\n",
       "    .dataframe tbody tr th:only-of-type {\n",
       "        vertical-align: middle;\n",
       "    }\n",
       "\n",
       "    .dataframe tbody tr th {\n",
       "        vertical-align: top;\n",
       "    }\n",
       "\n",
       "    .dataframe thead th {\n",
       "        text-align: right;\n",
       "    }\n",
       "</style>\n",
       "<table border=\"1\" class=\"dataframe\">\n",
       "  <thead>\n",
       "    <tr style=\"text-align: right;\">\n",
       "      <th></th>\n",
       "      <th>1. open</th>\n",
       "      <th>2. high</th>\n",
       "      <th>3. low</th>\n",
       "      <th>4. close</th>\n",
       "    </tr>\n",
       "  </thead>\n",
       "  <tbody>\n",
       "    <tr>\n",
       "      <th>2019-11-17 19:04:00</th>\n",
       "      <td>19.2125</td>\n",
       "      <td>19.2125</td>\n",
       "      <td>19.2125</td>\n",
       "      <td>19.2125</td>\n",
       "    </tr>\n",
       "    <tr>\n",
       "      <th>2019-11-17 19:03:00</th>\n",
       "      <td>19.1901</td>\n",
       "      <td>19.1901</td>\n",
       "      <td>19.1901</td>\n",
       "      <td>19.1901</td>\n",
       "    </tr>\n",
       "    <tr>\n",
       "      <th>2019-11-17 19:02:00</th>\n",
       "      <td>19.1901</td>\n",
       "      <td>19.1901</td>\n",
       "      <td>19.1901</td>\n",
       "      <td>19.1901</td>\n",
       "    </tr>\n",
       "    <tr>\n",
       "      <th>2019-11-17 19:01:00</th>\n",
       "      <td>19.1901</td>\n",
       "      <td>19.1901</td>\n",
       "      <td>19.1901</td>\n",
       "      <td>19.1901</td>\n",
       "    </tr>\n",
       "    <tr>\n",
       "      <th>2019-11-17 19:00:00</th>\n",
       "      <td>19.1901</td>\n",
       "      <td>19.1901</td>\n",
       "      <td>19.1901</td>\n",
       "      <td>19.1901</td>\n",
       "    </tr>\n",
       "  </tbody>\n",
       "</table>\n",
       "</div>"
      ],
      "text/plain": [
       "                     1. open  2. high   3. low 4. close\n",
       "2019-11-17 19:04:00  19.2125  19.2125  19.2125  19.2125\n",
       "2019-11-17 19:03:00  19.1901  19.1901  19.1901  19.1901\n",
       "2019-11-17 19:02:00  19.1901  19.1901  19.1901  19.1901\n",
       "2019-11-17 19:01:00  19.1901  19.1901  19.1901  19.1901\n",
       "2019-11-17 19:00:00  19.1901  19.1901  19.1901  19.1901"
      ]
     },
     "execution_count": 39,
     "metadata": {},
     "output_type": "execute_result"
    }
   ],
   "source": [
    "df_data = pd.DataFrame(data[\"Time Series FX (1min)\"]).T\n",
    "df_data.head()"
   ]
  },
  {
   "cell_type": "code",
   "execution_count": 40,
   "metadata": {},
   "outputs": [
    {
     "data": {
      "text/plain": [
       "1. open     object\n",
       "2. high     object\n",
       "3. low      object\n",
       "4. close    object\n",
       "dtype: object"
      ]
     },
     "execution_count": 40,
     "metadata": {},
     "output_type": "execute_result"
    }
   ],
   "source": [
    "df_data.dtypes"
   ]
  },
  {
   "cell_type": "markdown",
   "metadata": {},
   "source": [
    "## FX Daily"
   ]
  },
  {
   "cell_type": "code",
   "execution_count": 42,
   "metadata": {},
   "outputs": [
    {
     "data": {
      "text/plain": [
       "<Response [200]>"
      ]
     },
     "execution_count": 42,
     "metadata": {},
     "output_type": "execute_result"
    }
   ],
   "source": [
    "intraday1 = {\n",
    "    \"function\": \"FX_DAILY\",\n",
    "    \"to_symbol\": target_curr[\"currency code\"].values[0],\n",
    "    \"from_symbol\": \"USD\",\n",
    "    \"apikey\": avkey,\n",
    "    \"outputsize\": \"full\",\n",
    "}\n",
    "\n",
    "r = requests.get(base_url, params=intraday1)\n",
    "r"
   ]
  },
  {
   "cell_type": "code",
   "execution_count": 43,
   "metadata": {},
   "outputs": [],
   "source": [
    "data = r.json()"
   ]
  },
  {
   "cell_type": "code",
   "execution_count": 44,
   "metadata": {},
   "outputs": [],
   "source": [
    "df_data = pd.DataFrame(data[\"Time Series FX (Daily)\"], dtype=float).T.sort_index()"
   ]
  },
  {
   "cell_type": "code",
   "execution_count": 45,
   "metadata": {},
   "outputs": [
    {
     "data": {
      "image/png": "[encoded data removed]",
      "text/plain": [
       "<Figure size 864x288 with 1 Axes>"
      ]
     },
     "metadata": {
      "image/png": {
       "height": 297,
       "width": 715
      },
      "needs_background": "light"
     },
     "output_type": "display_data"
    }
   ],
   "source": [
    "(df_data.apply(lambda x: x[\"4. close\"] - x[\"1. open\"], axis=1)\n",
    "        .plot(figsize=(12, 4), linewidth=1))\n",
    "plt.xticks(rotation=90)\n",
    "plt.grid(alpha=0.4)"
   ]
  },
  {
   "cell_type": "markdown",
   "metadata": {},
   "source": [
    "<h1 style=\"color:#872325\">API Wrappers (Liberías)</h1>\n",
    "\n",
    "Como hemos visto, utilizar un API require la codificación de los parámetros que espera recibir el servidor, hacer la llamada al servidor para validar la respuesta y manipular la información recibida a fin de hacer uso de esta.\n",
    "\n",
    "De querer obtener el mismo formato de respuesta sería necesario crear una librería en Python que contemple cada uno de estos pasos, lo cuál se podría volver una tarea tediosa.\n",
    "\n",
    "Un **API Wrapper** es una librería escrita en un lenguaje de programación que nos da \n",
    "\n",
    "**Nota**: Una de las desventajas de usar un API Wrapper son los posibles *bugs* que el wrapper podría tener."
   ]
  },
  {
   "cell_type": "markdown",
   "metadata": {},
   "source": [
    "<h2 style=\"color:crimson\">Ejercicios</h2>\n",
    "\n",
    "1. Repite el ejemplo *Arxiv ML Papers (I)*, agrega dos nuevas columnas al DataFrame final: `Abstract`, con el resumen de cada paper; `Submitted`, con la fecha en la que fue agregado al sistema. **Hint**: Ambos elementos se encuentran dentro de la *url* encontrada."
   ]
  },
  {
   "cell_type": "markdown",
   "metadata": {},
   "source": [
    "## References\n",
    "\n",
    "\n",
    "* https://developer.mozilla.org/en-US/docs/Web\n",
    "* https://www.w3schools.com/tags/ref_httpmethods.asp"
   ]
  }
 ],
 "metadata": {
  "kernelspec": {
   "display_name": "Python 3",
   "language": "python",
   "name": "python3"
  },
  "language_info": {
   "codemirror_mode": {
    "name": "ipython",
    "version": 3
   },
   "file_extension": ".py",
   "mimetype": "text/x-python",
   "name": "python",
   "nbconvert_exporter": "python",
   "pygments_lexer": "ipython3",
   "version": "3.7.5"
  }
 },
 "nbformat": 4,
 "nbformat_minor": 2
}
